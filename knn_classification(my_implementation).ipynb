{
 "cells": [
  {
   "cell_type": "code",
   "execution_count": 1,
   "metadata": {},
   "outputs": [
    {
     "name": "stderr",
     "output_type": "stream",
     "text": [
      "/home/tasos/anaconda2/lib/python2.7/site-packages/sklearn/cross_validation.py:41: DeprecationWarning: This module was deprecated in version 0.18 in favor of the model_selection module into which all the refactored classes and functions are moved. Also note that the interface of the new CV iterators are different from that of this module. This module will be removed in 0.20.\n",
      "  \"This module will be removed in 0.20.\", DeprecationWarning)\n"
     ]
    }
   ],
   "source": [
    "from sklearn import cross_validation\n",
    "from operator import itemgetter\n",
    "import numpy as np\n",
    "import math\n",
    "from collections import Counter\n",
    " \n",
    "# 1) given two data points, calculate the euclidean distance between them\n",
    "def get_distance(data1, data2):\n",
    "    points = zip(data1, data2)\n",
    "    diffs_squared_distance = [pow(a - b, 2) for (a, b) in points]\n",
    "    return math.sqrt(sum(diffs_squared_distance))\n",
    " \n",
    "# 2) given a training set and a test instance, use getDistance to calculate all pairwise distances\n",
    "def get_neighbours(training_set, test_instance, k):\n",
    "    distances = [_get_tuple_distance(training_instance, test_instance) for training_instance in training_set]\n",
    "    # index 1 is the calculated distance between training_instance and test_instance\n",
    "    sorted_distances = sorted(distances, key=itemgetter(1))\n",
    "    # extract only training instances\n",
    "    sorted_training_instances = [tuple[0] for tuple in sorted_distances]\n",
    "    # select first k elements\n",
    "    return sorted_training_instances[:k]\n",
    " \n",
    "def _get_tuple_distance(training_instance, test_instance):\n",
    "    return (training_instance, get_distance(test_instance, training_instance[0]))\n",
    " \n",
    "# 3) given an array of nearest neighbours for a test case, tally up their classes to vote on test case class\n",
    "def get_majority_vote(neighbours):\n",
    "    # index 1 is the class\n",
    "    classes = [neighbour[1] for neighbour in neighbours]\n",
    "    count = Counter(classes)\n",
    "    return count.most_common()[0][0] \n"
   ]
  },
  {
   "cell_type": "code",
   "execution_count": 2,
   "metadata": {},
   "outputs": [],
   "source": [
    "import pandas as pd\n",
    "import numpy as np\n",
    "from numpy import zeros\n",
    "#sklearn imports\n",
    "from sklearn.feature_extraction.text import ENGLISH_STOP_WORDS\n",
    "from sklearn.feature_extraction.text import CountVectorizer\n",
    "from sklearn import preprocessing\n",
    "from sklearn import cross_validation\n",
    "from sklearn.metrics import classification_report\n",
    "\n",
    "from sklearn.model_selection import cross_val_predict\n",
    "from sklearn.model_selection import cross_val_score\n",
    "#import for metrics\n",
    "from sklearn.metrics import precision_recall_fscore_support, accuracy_score"
   ]
  },
  {
   "cell_type": "code",
   "execution_count": 3,
   "metadata": {},
   "outputs": [],
   "source": [
    "# setting up main executable method\n",
    "def knn():\n",
    "    results=dict();\n",
    "    # load the data and create the training and test sets\n",
    "    # random_state = 1 is just a seed to permit reproducibility of the train/test split\n",
    "  \n",
    "    ##############################################\n",
    "    data = pd.read_csv('train_set.csv', sep=\"\\t\")\n",
    "    #create set from categories\n",
    "    le = preprocessing.LabelEncoder()\n",
    "    le.fit(data[\"Category\"])\n",
    "    y = le.transform(data[\"Category\"])\n",
    "    set(y)\n",
    "    #import vectorizer and lsi\n",
    "    from sklearn.feature_extraction.text import TfidfVectorizer\n",
    "    from sklearn.decomposition import TruncatedSVD\n",
    "    #do vectorization\n",
    "    vectorizer = TfidfVectorizer(max_df=0.5,stop_words='english',use_idf=True)\n",
    "    X = vectorizer.fit_transform(data['Content'])\n",
    "    lsa=TruncatedSVD(n_components=100)\n",
    "    X=lsa.fit_transform(X)\n",
    "    X=preprocessing.Normalizer(copy=False).fit_transform(X)\n",
    "    ###############################################\n",
    "    X_train, X_test, y_train, y_test = cross_validation.train_test_split(X, y, test_size=0.4, random_state=1) \n",
    "    # reformat train/test datasets for convenience\n",
    "    train = np.array(zip(X_train,y_train))\n",
    "    test = np.array(zip(X_test, y_test))\n",
    " \n",
    "    # generate predictions\n",
    "    predictions = []\n",
    " \n",
    "    # let's arbitrarily set k equal to 5, meaning that to predict the class of new instances,\n",
    "    k = 5\n",
    " \n",
    "    # for each instance in the test set, get nearest neighbours and majority vote on predicted class\n",
    "    for x in range(len(X_test)):\n",
    "        neighbours = get_neighbours(training_set=train, test_instance=test[x][0], k=5)\n",
    "        majority_vote = get_majority_vote(neighbours)\n",
    "        predictions.append(majority_vote)\n",
    "    # summarize performance of the classification\n",
    "    #get metrics for accuracy\n",
    "    accuracy=accuracy_score(y_test,predictions)\n",
    "    #get metrics for precision,recall,fscore,support in a list\n",
    "    score=precision_recall_fscore_support(y_test,predictions,average='macro')\n",
    "    precision=score[0]\n",
    "    recall=score[1]\n",
    "    f1_score=score[2]\n",
    "    #values to return\n",
    "    results['predictions']=predictions\n",
    "    results['accuracy']=accuracy\n",
    "    results['precision']=precision\n",
    "    results['recall']=recall\n",
    "    results['f1_score']=f1_score\n",
    "    return results\n",
    "    \n",
    "if __name__ == \"__knn__\":\n",
    "    knn()"
   ]
  },
  {
   "cell_type": "code",
   "execution_count": 4,
   "metadata": {},
   "outputs": [],
   "source": [
    "results=knn()"
   ]
  },
  {
   "cell_type": "code",
   "execution_count": 5,
   "metadata": {},
   "outputs": [],
   "source": [
    "predictions=results['predictions']\n",
    "accuracy=results['accuracy']\n",
    "precision=results['precision']\n",
    "recall=results['recall']\n",
    "f1_score=results['f1_score']"
   ]
  },
  {
   "cell_type": "code",
   "execution_count": 6,
   "metadata": {},
   "outputs": [],
   "source": [
    "#open csv for write results\n",
    "data = pd.read_csv('EvaluationMetric_10fold.csv',sep='\\t')"
   ]
  },
  {
   "cell_type": "code",
   "execution_count": 9,
   "metadata": {},
   "outputs": [],
   "source": [
    "#write results to csv\n",
    "data.loc[0,'KNN']=accuracy\n",
    "data.loc[1,'KNN']=precision\n",
    "data.loc[2,'KNN']=recall\n",
    "data.loc[3,'KNN']=f1_score\n",
    "#save/overwrite csv\n",
    "data.to_csv('EvaluationMetric_10fold.csv',sep='\\t',index=False)"
   ]
  },
  {
   "cell_type": "code",
   "execution_count": 10,
   "metadata": {},
   "outputs": [
    {
     "data": {
      "text/html": [
       "<div>\n",
       "<style scoped>\n",
       "    .dataframe tbody tr th:only-of-type {\n",
       "        vertical-align: middle;\n",
       "    }\n",
       "\n",
       "    .dataframe tbody tr th {\n",
       "        vertical-align: top;\n",
       "    }\n",
       "\n",
       "    .dataframe thead th {\n",
       "        text-align: right;\n",
       "    }\n",
       "</style>\n",
       "<table border=\"1\" class=\"dataframe\">\n",
       "  <thead>\n",
       "    <tr style=\"text-align: right;\">\n",
       "      <th></th>\n",
       "      <th>Statistic Measure</th>\n",
       "      <th>Naive Bayes</th>\n",
       "      <th>Random Forest</th>\n",
       "      <th>SVM</th>\n",
       "      <th>KNN</th>\n",
       "      <th>My Method</th>\n",
       "    </tr>\n",
       "  </thead>\n",
       "  <tbody>\n",
       "    <tr>\n",
       "      <th>0</th>\n",
       "      <td>Accuracy</td>\n",
       "      <td>0.939426</td>\n",
       "      <td>0.678787</td>\n",
       "      <td>0.959237</td>\n",
       "      <td>0.954962</td>\n",
       "      <td>NaN</td>\n",
       "    </tr>\n",
       "    <tr>\n",
       "      <th>1</th>\n",
       "      <td>Precision</td>\n",
       "      <td>0.935177</td>\n",
       "      <td>0.648057</td>\n",
       "      <td>0.956933</td>\n",
       "      <td>0.953109</td>\n",
       "      <td>NaN</td>\n",
       "    </tr>\n",
       "    <tr>\n",
       "      <th>2</th>\n",
       "      <td>Recall</td>\n",
       "      <td>0.937824</td>\n",
       "      <td>0.647480</td>\n",
       "      <td>0.957114</td>\n",
       "      <td>0.954454</td>\n",
       "      <td>NaN</td>\n",
       "    </tr>\n",
       "    <tr>\n",
       "      <th>3</th>\n",
       "      <td>F-Measure</td>\n",
       "      <td>0.936162</td>\n",
       "      <td>0.647525</td>\n",
       "      <td>0.957014</td>\n",
       "      <td>0.953720</td>\n",
       "      <td>NaN</td>\n",
       "    </tr>\n",
       "  </tbody>\n",
       "</table>\n",
       "</div>"
      ],
      "text/plain": [
       "  Statistic Measure  Naive Bayes  Random Forest       SVM       KNN  My Method\n",
       "0          Accuracy     0.939426       0.678787  0.959237  0.954962        NaN\n",
       "1         Precision     0.935177       0.648057  0.956933  0.953109        NaN\n",
       "2            Recall     0.937824       0.647480  0.957114  0.954454        NaN\n",
       "3         F-Measure     0.936162       0.647525  0.957014  0.953720        NaN"
      ]
     },
     "execution_count": 10,
     "metadata": {},
     "output_type": "execute_result"
    }
   ],
   "source": [
    "data"
   ]
  },
  {
   "cell_type": "code",
   "execution_count": null,
   "metadata": {},
   "outputs": [],
   "source": []
  }
 ],
 "metadata": {
  "kernelspec": {
   "display_name": "Python 2",
   "language": "python",
   "name": "python2"
  },
  "language_info": {
   "codemirror_mode": {
    "name": "ipython",
    "version": 2
   },
   "file_extension": ".py",
   "mimetype": "text/x-python",
   "name": "python",
   "nbconvert_exporter": "python",
   "pygments_lexer": "ipython2",
   "version": "2.7.14"
  }
 },
 "nbformat": 4,
 "nbformat_minor": 2
}
